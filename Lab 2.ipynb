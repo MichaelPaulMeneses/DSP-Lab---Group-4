{
 "cells": [
  {
   "cell_type": "code",
   "execution_count": 4,
   "id": "a515681e-a601-46fc-9a90-f3b57a30a8ef",
   "metadata": {},
   "outputs": [],
   "source": [
    "import numpy as np"
   ]
  },
  {
   "cell_type": "code",
   "execution_count": 37,
   "id": "812103d2-f022-486b-9174-d49b47511990",
   "metadata": {},
   "outputs": [
    {
     "data": {
      "text/plain": [
       "array([3.44339623, 4.69811321, 1.62264151, 0.23584906])"
      ]
     },
     "execution_count": 37,
     "metadata": {},
     "output_type": "execute_result"
    }
   ],
   "source": [
    "A = np.array([[1, 1, 1, 1], [2, -1, 3, 4], [-3, 2, -2, 5], [1, -1, 4, -1]])\n",
    "B = np.array([10, 8, -3, 5])\n",
    "\n",
    "ans = np.linalg.solve(A, B)\n",
    "ans"
   ]
  },
  {
   "cell_type": "code",
   "execution_count": 7,
   "id": "12fdcf53-2d27-47bd-95cf-fecb8b15a521",
   "metadata": {},
   "outputs": [
    {
     "name": "stdout",
     "output_type": "stream",
     "text": [
      "I1 = 0.0097 A\n",
      "I2 = -0.0042 A\n",
      "I3 = 0.0139 A\n"
     ]
    }
   ],
   "source": [
    "A = np.array([[2100, 1500],\n",
    "              [-600, 900]])\n",
    "\n",
    "B = np.array([12, 15])\n",
    "\n",
    "I2, I3 = np.linalg.solve(A, B)\n",
    "I1 = I2 + I3\n",
    "\n",
    "print(f\"I1 = {I1:.4f} A\")\n",
    "print(f\"I2 = {I2:.4f} A\")\n",
    "print(f\"I3 = {I3:.4f} A\")"
   ]
  },
  {
   "cell_type": "code",
   "execution_count": 35,
   "id": "1697c473-f119-4758-9a9a-fa90d203d994",
   "metadata": {},
   "outputs": [
    {
     "data": {
      "text/plain": [
       "array([[-0.375, -0.125,  0.625],\n",
       "       [-0.125,  0.625, -0.125],\n",
       "       [ 0.625, -0.125, -0.375]])"
      ]
     },
     "execution_count": 35,
     "metadata": {},
     "output_type": "execute_result"
    }
   ],
   "source": [
    "A = np.array([[2, 1, 3],[1, 2, 1],[3, 1, 2]])\n",
    "\n",
    "ans = np.linalg.inv(A)\n",
    "ans"
   ]
  }
 ],
 "metadata": {
  "kernelspec": {
   "display_name": "Python 3 (ipykernel)",
   "language": "python",
   "name": "python3"
  },
  "language_info": {
   "codemirror_mode": {
    "name": "ipython",
    "version": 3
   },
   "file_extension": ".py",
   "mimetype": "text/x-python",
   "name": "python",
   "nbconvert_exporter": "python",
   "pygments_lexer": "ipython3",
   "version": "3.11.9"
  }
 },
 "nbformat": 4,
 "nbformat_minor": 5
}
